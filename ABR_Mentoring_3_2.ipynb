{
  "nbformat": 4,
  "nbformat_minor": 0,
  "metadata": {
    "colab": {
      "name": "ABR_Mentoring_3.ipynb",
      "provenance": [],
      "authorship_tag": "ABX9TyOs08FAduEQoqmAGo6JtCf2",
      "include_colab_link": true
    },
    "kernelspec": {
      "name": "python3",
      "display_name": "Python 3"
    }
  },
  "cells": [
    {
      "cell_type": "markdown",
      "metadata": {
        "id": "view-in-github",
        "colab_type": "text"
      },
      "source": [
        "<a href=\"https://colab.research.google.com/github/TonyRHo32/ABR-Mentoring/blob/master/ABR_Mentoring_3_2.ipynb\" target=\"_parent\"><img src=\"https://colab.research.google.com/assets/colab-badge.svg\" alt=\"Open In Colab\"/></a>"
      ]
    },
    {
      "cell_type": "markdown",
      "metadata": {
        "id": "Z2KYNi_XIo1D",
        "colab_type": "text"
      },
      "source": [
        ""
      ]
    },
    {
      "cell_type": "markdown",
      "metadata": {
        "id": "HsBR_BY7I1Dq",
        "colab_type": "text"
      },
      "source": [
        "# ABR mentoring 3주차\n",
        "\n",
        "## 1.데이터 읽어오기"
      ]
    },
    {
      "cell_type": "code",
      "metadata": {
        "id": "jhr_1JZ3Iz4O",
        "colab_type": "code",
        "colab": {}
      },
      "source": [
        "import numpy as np\n",
        "import pandas as pd\n",
        "import matplotlib.pyplot as plt\n"
      ],
      "execution_count": 0,
      "outputs": []
    },
    {
      "cell_type": "code",
      "metadata": {
        "id": "38aHFojmJA0W",
        "colab_type": "code",
        "colab": {}
      },
      "source": [
        "name_file='/content/data_lab1.txt'\n",
        "columns=['x','y']\n",
        "\n",
        "data_in = pd.read_csv(name_file, sep=' ',names=columns)"
      ],
      "execution_count": 0,
      "outputs": []
    },
    {
      "cell_type": "code",
      "metadata": {
        "id": "YPKlppw2JeoX",
        "colab_type": "code",
        "outputId": "732881cf-b830-4263-e626-7e5302b852cd",
        "colab": {
          "base_uri": "https://localhost:8080/",
          "height": 34
        }
      },
      "source": [
        "type(data_in)"
      ],
      "execution_count": 98,
      "outputs": [
        {
          "output_type": "execute_result",
          "data": {
            "text/plain": [
              "pandas.core.frame.DataFrame"
            ]
          },
          "metadata": {
            "tags": []
          },
          "execution_count": 98
        }
      ]
    },
    {
      "cell_type": "code",
      "metadata": {
        "id": "N-_q-tWBJkyX",
        "colab_type": "code",
        "outputId": "0dfa5d66-6557-4908-ade8-ef94d7c8bc0d",
        "colab": {
          "base_uri": "https://localhost:8080/",
          "height": 419
        }
      },
      "source": [
        "data_in"
      ],
      "execution_count": 99,
      "outputs": [
        {
          "output_type": "execute_result",
          "data": {
            "text/html": [
              "<div>\n",
              "<style scoped>\n",
              "    .dataframe tbody tr th:only-of-type {\n",
              "        vertical-align: middle;\n",
              "    }\n",
              "\n",
              "    .dataframe tbody tr th {\n",
              "        vertical-align: top;\n",
              "    }\n",
              "\n",
              "    .dataframe thead th {\n",
              "        text-align: right;\n",
              "    }\n",
              "</style>\n",
              "<table border=\"1\" class=\"dataframe\">\n",
              "  <thead>\n",
              "    <tr style=\"text-align: right;\">\n",
              "      <th></th>\n",
              "      <th>x</th>\n",
              "      <th>y</th>\n",
              "    </tr>\n",
              "  </thead>\n",
              "  <tbody>\n",
              "    <tr>\n",
              "      <th>0</th>\n",
              "      <td>0.000000</td>\n",
              "      <td>0.685785</td>\n",
              "    </tr>\n",
              "    <tr>\n",
              "      <th>1</th>\n",
              "      <td>0.020202</td>\n",
              "      <td>1.671735</td>\n",
              "    </tr>\n",
              "    <tr>\n",
              "      <th>2</th>\n",
              "      <td>0.040404</td>\n",
              "      <td>2.406276</td>\n",
              "    </tr>\n",
              "    <tr>\n",
              "      <th>3</th>\n",
              "      <td>0.060606</td>\n",
              "      <td>0.375167</td>\n",
              "    </tr>\n",
              "    <tr>\n",
              "      <th>4</th>\n",
              "      <td>0.080808</td>\n",
              "      <td>4.355949</td>\n",
              "    </tr>\n",
              "    <tr>\n",
              "      <th>...</th>\n",
              "      <td>...</td>\n",
              "      <td>...</td>\n",
              "    </tr>\n",
              "    <tr>\n",
              "      <th>95</th>\n",
              "      <td>1.919192</td>\n",
              "      <td>19.975148</td>\n",
              "    </tr>\n",
              "    <tr>\n",
              "      <th>96</th>\n",
              "      <td>1.939394</td>\n",
              "      <td>20.358975</td>\n",
              "    </tr>\n",
              "    <tr>\n",
              "      <th>97</th>\n",
              "      <td>1.959596</td>\n",
              "      <td>22.849086</td>\n",
              "    </tr>\n",
              "    <tr>\n",
              "      <th>98</th>\n",
              "      <td>1.979798</td>\n",
              "      <td>19.977494</td>\n",
              "    </tr>\n",
              "    <tr>\n",
              "      <th>99</th>\n",
              "      <td>2.000000</td>\n",
              "      <td>20.861562</td>\n",
              "    </tr>\n",
              "  </tbody>\n",
              "</table>\n",
              "<p>100 rows × 2 columns</p>\n",
              "</div>"
            ],
            "text/plain": [
              "           x          y\n",
              "0   0.000000   0.685785\n",
              "1   0.020202   1.671735\n",
              "2   0.040404   2.406276\n",
              "3   0.060606   0.375167\n",
              "4   0.080808   4.355949\n",
              "..       ...        ...\n",
              "95  1.919192  19.975148\n",
              "96  1.939394  20.358975\n",
              "97  1.959596  22.849086\n",
              "98  1.979798  19.977494\n",
              "99  2.000000  20.861562\n",
              "\n",
              "[100 rows x 2 columns]"
            ]
          },
          "metadata": {
            "tags": []
          },
          "execution_count": 99
        }
      ]
    },
    {
      "cell_type": "code",
      "metadata": {
        "id": "o3K9buX5JmhW",
        "colab_type": "code",
        "colab": {}
      },
      "source": [
        "x= np.asarray(data_in['x'])"
      ],
      "execution_count": 0,
      "outputs": []
    },
    {
      "cell_type": "code",
      "metadata": {
        "id": "vD_-g-OLJ9v7",
        "colab_type": "code",
        "outputId": "a2bda6ea-1a00-465a-9920-8378a2397cae",
        "colab": {
          "base_uri": "https://localhost:8080/",
          "height": 34
        }
      },
      "source": [
        "x.shape"
      ],
      "execution_count": 101,
      "outputs": [
        {
          "output_type": "execute_result",
          "data": {
            "text/plain": [
              "(100,)"
            ]
          },
          "metadata": {
            "tags": []
          },
          "execution_count": 101
        }
      ]
    },
    {
      "cell_type": "code",
      "metadata": {
        "id": "diJLAyHVSsh0",
        "colab_type": "code",
        "outputId": "73fea9c0-997b-4b87-8ad8-6ccb7223716e",
        "colab": {
          "base_uri": "https://localhost:8080/",
          "height": 357
        }
      },
      "source": [
        "x"
      ],
      "execution_count": 102,
      "outputs": [
        {
          "output_type": "execute_result",
          "data": {
            "text/plain": [
              "array([0.        , 0.02020202, 0.04040404, 0.06060606, 0.08080808,\n",
              "       0.1010101 , 0.12121212, 0.14141414, 0.16161616, 0.18181818,\n",
              "       0.2020202 , 0.22222222, 0.24242424, 0.26262626, 0.28282828,\n",
              "       0.3030303 , 0.32323232, 0.34343434, 0.36363636, 0.38383838,\n",
              "       0.4040404 , 0.42424242, 0.44444444, 0.46464646, 0.48484848,\n",
              "       0.50505051, 0.52525253, 0.54545455, 0.56565657, 0.58585859,\n",
              "       0.60606061, 0.62626263, 0.64646465, 0.66666667, 0.68686869,\n",
              "       0.70707071, 0.72727273, 0.74747475, 0.76767677, 0.78787879,\n",
              "       0.80808081, 0.82828283, 0.84848485, 0.86868687, 0.88888889,\n",
              "       0.90909091, 0.92929293, 0.94949495, 0.96969697, 0.98989899,\n",
              "       1.01010101, 1.03030303, 1.05050505, 1.07070707, 1.09090909,\n",
              "       1.11111111, 1.13131313, 1.15151515, 1.17171717, 1.19191919,\n",
              "       1.21212121, 1.23232323, 1.25252525, 1.27272727, 1.29292929,\n",
              "       1.31313131, 1.33333333, 1.35353535, 1.37373737, 1.39393939,\n",
              "       1.41414141, 1.43434343, 1.45454545, 1.47474747, 1.49494949,\n",
              "       1.51515152, 1.53535354, 1.55555556, 1.57575758, 1.5959596 ,\n",
              "       1.61616162, 1.63636364, 1.65656566, 1.67676768, 1.6969697 ,\n",
              "       1.71717172, 1.73737374, 1.75757576, 1.77777778, 1.7979798 ,\n",
              "       1.81818182, 1.83838384, 1.85858586, 1.87878788, 1.8989899 ,\n",
              "       1.91919192, 1.93939394, 1.95959596, 1.97979798, 2.        ])"
            ]
          },
          "metadata": {
            "tags": []
          },
          "execution_count": 102
        }
      ]
    },
    {
      "cell_type": "code",
      "metadata": {
        "id": "SDDAHU3QJ-3G",
        "colab_type": "code",
        "colab": {}
      },
      "source": [
        "x= np.asarray(data_in['x']).reshape((-1,1))\n",
        "y= np.asarray(data_in['y']).reshape((-1,1))"
      ],
      "execution_count": 0,
      "outputs": []
    },
    {
      "cell_type": "code",
      "metadata": {
        "id": "fPI4wnPqKKs2",
        "colab_type": "code",
        "outputId": "a34d63ab-a137-40a1-9044-1d18fae27347",
        "colab": {
          "base_uri": "https://localhost:8080/",
          "height": 265
        }
      },
      "source": [
        "plt.plot(x,y,'r.')\n",
        "plt.show()"
      ],
      "execution_count": 104,
      "outputs": [
        {
          "output_type": "display_data",
          "data": {
            "image/png": "[encoded data removed]",
            "text/plain": [
              "<Figure size 432x288 with 1 Axes>"
            ]
          },
          "metadata": {
            "tags": [],
            "needs_background": "light"
          }
        }
      ]
    },
    {
      "cell_type": "code",
      "metadata": {
        "id": "_n0cHS7OKnV7",
        "colab_type": "code",
        "colab": {}
      },
      "source": [
        ""
      ],
      "execution_count": 0,
      "outputs": []
    },
    {
      "cell_type": "code",
      "metadata": {
        "id": "nNoyW9ZwLdxa",
        "colab_type": "code",
        "colab": {}
      },
      "source": [
        ""
      ],
      "execution_count": 0,
      "outputs": []
    },
    {
      "cell_type": "code",
      "metadata": {
        "id": "Aiuh4dIZK2Me",
        "colab_type": "code",
        "colab": {}
      },
      "source": [
        "x=np.column_stack((np.ones_like(x),x))"
      ],
      "execution_count": 0,
      "outputs": []
    },
    {
      "cell_type": "code",
      "metadata": {
        "id": "RetH-n4ZL6jL",
        "colab_type": "code",
        "outputId": "027e5264-1f80-4bec-f5d2-3835a5e92bb4",
        "colab": {
          "base_uri": "https://localhost:8080/",
          "height": 187
        }
      },
      "source": [
        "x[:10]"
      ],
      "execution_count": 106,
      "outputs": [
        {
          "output_type": "execute_result",
          "data": {
            "text/plain": [
              "array([[1.        , 0.        ],\n",
              "       [1.        , 0.02020202],\n",
              "       [1.        , 0.04040404],\n",
              "       [1.        , 0.06060606],\n",
              "       [1.        , 0.08080808],\n",
              "       [1.        , 0.1010101 ],\n",
              "       [1.        , 0.12121212],\n",
              "       [1.        , 0.14141414],\n",
              "       [1.        , 0.16161616],\n",
              "       [1.        , 0.18181818]])"
            ]
          },
          "metadata": {
            "tags": []
          },
          "execution_count": 106
        }
      ]
    },
    {
      "cell_type": "markdown",
      "metadata": {
        "id": "nQ413koJMKMB",
        "colab_type": "text"
      },
      "source": [
        "I : 입력데이터의 개수\n",
        "\n",
        "N : 입력 데이터의 차원\n",
        "\n",
        "x의 shape는 I, N+1\n",
        "\n",
        "y의 shape는 I,1\n",
        "\n",
        "theta의 shape는 N+1,1"
      ]
    },
    {
      "cell_type": "code",
      "metadata": {
        "id": "04qBRe5jNCII",
        "colab_type": "code",
        "colab": {}
      },
      "source": [
        "I= x.shape[0]\n",
        "N= x.shape[1]-1"
      ],
      "execution_count": 0,
      "outputs": []
    },
    {
      "cell_type": "markdown",
      "metadata": {
        "id": "pQyQxGz5KxRZ",
        "colab_type": "text"
      },
      "source": [
        "## 2. 배치 경사 하강법\n"
      ]
    },
    {
      "cell_type": "code",
      "metadata": {
        "id": "WJGQn3DaL7QV",
        "colab_type": "code",
        "colab": {}
      },
      "source": [
        "# BGD\n",
        "\n",
        "#파라미터 랜덤으로 초기화\n",
        "theta = np.random.rand(N+1,1)\n",
        "\n",
        "#학습률, 에포크 수(반복횟수)\n",
        "alpha= 0.001\n",
        "max_epoch = 10000"
      ],
      "execution_count": 0,
      "outputs": []
    },
    {
      "cell_type": "code",
      "metadata": {
        "id": "2jiHtX4aNXud",
        "colab_type": "code",
        "colab": {}
      },
      "source": [
        "# 메인 루프\n",
        "for epoch in range(1,max_epoch+1):\n",
        "  theta_tp=np.transpose(theta)\n",
        "  for n in range(0,N+1):\n",
        "     for i in range(1,I):\n",
        "       gradient = (np.matmul(theta_tp, x[i])-y[i]) * x[i,n]\n",
        "       theta[n]=theta[n] -alpha * gradient"
      ],
      "execution_count": 0,
      "outputs": []
    },
    {
      "cell_type": "code",
      "metadata": {
        "id": "ftlg3bcKTAWJ",
        "colab_type": "code",
        "outputId": "e80e703f-4195-43e5-ad8a-789cd4f65c1e",
        "colab": {
          "base_uri": "https://localhost:8080/",
          "height": 51
        }
      },
      "source": [
        "theta"
      ],
      "execution_count": 110,
      "outputs": [
        {
          "output_type": "execute_result",
          "data": {
            "text/plain": [
              "array([[-1.12832519],\n",
              "       [10.39739257]])"
            ]
          },
          "metadata": {
            "tags": []
          },
          "execution_count": 110
        }
      ]
    },
    {
      "cell_type": "code",
      "metadata": {
        "id": "-GsjTygePwp_",
        "colab_type": "code",
        "colab": {}
      },
      "source": [
        "def hypo(theta, t):\n",
        "  return theta[0] + theta[1] * t"
      ],
      "execution_count": 0,
      "outputs": []
    },
    {
      "cell_type": "code",
      "metadata": {
        "id": "LjPivSOoQV84",
        "colab_type": "code",
        "outputId": "94d1e70f-a0bb-4fb8-9b06-3b3b41cd8aa3",
        "colab": {
          "base_uri": "https://localhost:8080/",
          "height": 265
        }
      },
      "source": [
        "t=x[:,1]\n",
        "\n",
        "plt.plot(t,y,'r.')\n",
        "\n",
        "plt.plot(t, hypo(theta,t),'b-')\n",
        "\n",
        "plt.show()"
      ],
      "execution_count": 112,
      "outputs": [
        {
          "output_type": "display_data",
          "data": {
            "image/png": "[encoded data removed]",
            "text/plain": [
              "<Figure size 432x288 with 1 Axes>"
            ]
          },
          "metadata": {
            "tags": [],
            "needs_background": "light"
          }
        }
      ]
    },
    {
      "cell_type": "code",
      "metadata": {
        "id": "57iS2b1eQdFg",
        "colab_type": "code",
        "colab": {}
      },
      "source": [
        ""
      ],
      "execution_count": 0,
      "outputs": []
    },
    {
      "cell_type": "code",
      "metadata": {
        "id": "WFNfo6s4hYhm",
        "colab_type": "code",
        "colab": {}
      },
      "source": [
        "theta_BGD = theta"
      ],
      "execution_count": 0,
      "outputs": []
    },
    {
      "cell_type": "markdown",
      "metadata": {
        "id": "SJqkon9aUqVl",
        "colab_type": "text"
      },
      "source": [
        "## 3. 확률적 경사 하강법\n",
        "random.randrange() 로 i 랜덤으로 골라서 쓰기\n",
        "## 4. 최소제곱법\n",
        "transpose inverse\n",
        "## 5. 3가지 직선 다같이 그리기"
      ]
    },
    {
      "cell_type": "code",
      "metadata": {
        "id": "ei7VMUxWiDRo",
        "colab_type": "code",
        "colab": {}
      },
      "source": [
        "from random import randint"
      ],
      "execution_count": 0,
      "outputs": []
    },
    {
      "cell_type": "code",
      "metadata": {
        "id": "8FN-1gfvU4Gw",
        "colab_type": "code",
        "colab": {}
      },
      "source": [
        "# SGD\n",
        "\n",
        "#파라미터 랜덤으로 초기화\n",
        "theta = np.random.rand(N+1,1)\n",
        "\n",
        "#학습률, 에포크 수(반복횟수)\n",
        "alpha= 0.001\n",
        "max_epoch = 100"
      ],
      "execution_count": 0,
      "outputs": []
    },
    {
      "cell_type": "code",
      "metadata": {
        "id": "4SieiWNNhmBK",
        "colab_type": "code",
        "colab": {}
      },
      "source": [
        "# 메인 루프\n",
        "for epoch in range(1,max_epoch+1):\n",
        "  theta_tp=np.transpose(theta)\n",
        "  for n in range(0,N+1):\n",
        "     i = randint(0, I-1)\n",
        "     gradient = (np.matmul(theta_tp, x[i])-y[i]) * x[i,n]\n",
        "     theta[n]=theta[n] -alpha * gradient"
      ],
      "execution_count": 0,
      "outputs": []
    },
    {
      "cell_type": "code",
      "metadata": {
        "id": "AnE0XSUciuK2",
        "colab_type": "code",
        "colab": {
          "base_uri": "https://localhost:8080/",
          "height": 51
        },
        "outputId": "50da7ac9-5416-410c-8319-7529424f6299"
      },
      "source": [
        "theta_BGD"
      ],
      "execution_count": 117,
      "outputs": [
        {
          "output_type": "execute_result",
          "data": {
            "text/plain": [
              "array([[-1.12832519],\n",
              "       [10.39739257]])"
            ]
          },
          "metadata": {
            "tags": []
          },
          "execution_count": 117
        }
      ]
    },
    {
      "cell_type": "code",
      "metadata": {
        "id": "6JXYRzpijds8",
        "colab_type": "code",
        "colab": {
          "base_uri": "https://localhost:8080/",
          "height": 51
        },
        "outputId": "de998e85-5cbc-4ac3-90d3-053927e55af2"
      },
      "source": [
        "theta"
      ],
      "execution_count": 118,
      "outputs": [
        {
          "output_type": "execute_result",
          "data": {
            "text/plain": [
              "array([[1.29626037],\n",
              "       [1.97072709]])"
            ]
          },
          "metadata": {
            "tags": []
          },
          "execution_count": 118
        }
      ]
    },
    {
      "cell_type": "code",
      "metadata": {
        "id": "PEJRCfq1je3q",
        "colab_type": "code",
        "colab": {}
      },
      "source": [
        "def hypo(theta, t):\n",
        "  return theta[0] + theta[1] * t"
      ],
      "execution_count": 0,
      "outputs": []
    },
    {
      "cell_type": "code",
      "metadata": {
        "id": "-qJMqQKDj7Nr",
        "colab_type": "code",
        "colab": {
          "base_uri": "https://localhost:8080/",
          "height": 265
        },
        "outputId": "56b8112d-7d3c-4eb5-b32c-96c6162137c8"
      },
      "source": [
        "t=x[:,1]\n",
        "\n",
        "plt.plot(t,y,'r.')\n",
        "\n",
        "plt.plot(t, hypo(theta,t),'b-')\n",
        "\n",
        "plt.show()"
      ],
      "execution_count": 120,
      "outputs": [
        {
          "output_type": "display_data",
          "data": {
            "image/png": "[encoded data removed]",
            "text/plain": [
              "<Figure size 432x288 with 1 Axes>"
            ]
          },
          "metadata": {
            "tags": [],
            "needs_background": "light"
          }
        }
      ]
    },
    {
      "cell_type": "code",
      "metadata": {
        "id": "xYowoq_Cj8Cw",
        "colab_type": "code",
        "colab": {}
      },
      "source": [
        "theta_SGD = theta"
      ],
      "execution_count": 0,
      "outputs": []
    },
    {
      "cell_type": "markdown",
      "metadata": {
        "id": "tvaDcOwwlT9v",
        "colab_type": "text"
      },
      "source": [
        "4.최소제곱법"
      ]
    },
    {
      "cell_type": "code",
      "metadata": {
        "id": "0GUINzyolWUS",
        "colab_type": "code",
        "colab": {}
      },
      "source": [
        "theta_OLS = np.matmul(np.matmul(np.linalg.inv(np.matmul(np.transpose(x),x)),np.transpose(x)),y)\n",
        "\n",
        "theta_OLS_2 = np.linalg.inv(x.T @ x) @ x.T @ y"
      ],
      "execution_count": 0,
      "outputs": []
    },
    {
      "cell_type": "markdown",
      "metadata": {
        "id": "DEMWwkUkoVtR",
        "colab_type": "text"
      },
      "source": [
        "5.세가지 표 같이그리기"
      ]
    },
    {
      "cell_type": "code",
      "metadata": {
        "id": "xZnZzrGAj_h8",
        "colab_type": "code",
        "colab": {
          "base_uri": "https://localhost:8080/",
          "height": 265
        },
        "outputId": "3fd3a486-31be-45d3-a8ca-5126fc7eea9a"
      },
      "source": [
        "plt.plot(t,y,'r.')\n",
        "plt.plot(t, hypo(theta_BGD,t), label='BGD')\n",
        "plt.plot(t, hypo(theta_SGD,t), label='SGD')\n",
        "plt.plot(t, hypo(theta_OLS,t), label='OLS')\n",
        "plt.legend()\n",
        "plt.show()"
      ],
      "execution_count": 123,
      "outputs": [
        {
          "output_type": "display_data",
          "data": {
            "image/png": "[encoded data removed]",
            "text/plain": [
              "<Figure size 432x288 with 1 Axes>"
            ]
          },
          "metadata": {
            "tags": [],
            "needs_background": "light"
          }
        }
      ]
    },
    {
      "cell_type": "code",
      "metadata": {
        "id": "rpLY4JZlohDi",
        "colab_type": "code",
        "colab": {}
      },
      "source": [
        ""
      ],
      "execution_count": 0,
      "outputs": []
    }
  ]
}