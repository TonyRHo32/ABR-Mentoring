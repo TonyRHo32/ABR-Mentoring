{
  "nbformat": 4,
  "nbformat_minor": 0,
  "metadata": {
    "colab": {
      "name": "Untitled9.ipynb",
      "provenance": [],
      "authorship_tag": "ABX9TyNxGzELMf/aE412N8Yun3kC",
      "include_colab_link": true
    },
    "kernelspec": {
      "name": "python3",
      "display_name": "Python 3"
    }
  },
  "cells": [
    {
      "cell_type": "markdown",
      "metadata": {
        "id": "view-in-github",
        "colab_type": "text"
      },
      "source": [
        "<a href=\"https://colab.research.google.com/github/TonyRHo32/ABR-Mentoring/blob/master/ABR_mentoring_4.ipynb\" target=\"_parent\"><img src=\"https://colab.research.google.com/assets/colab-badge.svg\" alt=\"Open In Colab\"/></a>"
      ]
    },
    {
      "cell_type": "markdown",
      "metadata": {
        "id": "xugglgIyqmee",
        "colab_type": "text"
      },
      "source": [
        "#ABR 멘토링 4주차\n",
        "## Multilayer Perceptron\n",
        "\n",
        "1.지난주 복습\n",
        "\n",
        "### Train/ Test Split\n",
        "\n",
        "학습한 모델을 평가할 때는 학습에 사용하지 않은 데이터로 평가해야한다! => 데이터를 두가지로 나눈다\n",
        "\n",
        "### 모델의 복잡도\n",
        "\n",
        "모델의 표현력, 문제의 복잡도에 맞는 복잡도를 가지는 모델을 선택하는 것이 중요\n",
        "\n",
        "### 과소 적합 / 과적합\n",
        "\n",
        "과소 적합: 문제 복잡도 > 모델 복잡도\n",
        "\n",
        "과적합 : 문제 복잡도 < 모델 복잡도, 데이터가 충분하지 않아서 나타남\n",
        "\n",
        "### 인공 신경망\n",
        "\n",
        "사람의 신경구조를 본따서 수학적으로 모델릴ㅇ한것\n",
        "\n",
        "### 퍼셉트론\n",
        "\n",
        "인공신경망의 기본단위, 뉴런을 수학적으로 모델링한것\n",
        "\n",
        "### 활성화 함수\n",
        "\n",
        "뉴런의 활성화 동작을 수학적으로 모델링한것\n",
        "\n",
        "### 다층 퍼셉트론 (MLP)\n",
        "\n",
        "퍼셉트론을 여러개 쌓은 모델\n",
        "\n",
        "### 순전파 / 역전파\n",
        "\n",
        "순전파 : 파라미터 theta -> 오차함수 E(theta)\n",
        "\n",
        "역전파 :오차함수 E(theta)->파라미터 theta 수정\n"
      ]
    },
    {
      "cell_type": "code",
      "metadata": {
        "id": "Tc44PlyAok29",
        "colab_type": "code",
        "colab": {}
      },
      "source": [
        "import tensorflow as tf"
      ],
      "execution_count": 0,
      "outputs": []
    },
    {
      "cell_type": "code",
      "metadata": {
        "id": "tkxyLB0syZCz",
        "colab_type": "code",
        "colab": {
          "base_uri": "https://localhost:8080/",
          "height": 34
        },
        "outputId": "1cc373b6-9c57-49f8-bdde-c3fa7efa3abc"
      },
      "source": [
        "tf.__version__"
      ],
      "execution_count": 2,
      "outputs": [
        {
          "output_type": "execute_result",
          "data": {
            "text/plain": [
              "'2.2.0'"
            ]
          },
          "metadata": {
            "tags": []
          },
          "execution_count": 2
        }
      ]
    },
    {
      "cell_type": "markdown",
      "metadata": {
        "id": "oXWtuyRezmSg",
        "colab_type": "text"
      },
      "source": [
        "1. 데이터 읽어오기"
      ]
    },
    {
      "cell_type": "code",
      "metadata": {
        "id": "tYeentgZyfPZ",
        "colab_type": "code",
        "colab": {}
      },
      "source": [
        "mnist = tf.keras.datasets.mnist"
      ],
      "execution_count": 0,
      "outputs": []
    },
    {
      "cell_type": "code",
      "metadata": {
        "id": "wFBo-n9my9yw",
        "colab_type": "code",
        "colab": {}
      },
      "source": [
        "(x_train, y_train),(x_test, y_test) = mnist.load_data()"
      ],
      "execution_count": 0,
      "outputs": []
    },
    {
      "cell_type": "code",
      "metadata": {
        "id": "PdSRrAVwzCRK",
        "colab_type": "code",
        "colab": {
          "base_uri": "https://localhost:8080/",
          "height": 34
        },
        "outputId": "2783bb70-a4a1-4342-8109-bd0e1deef91b"
      },
      "source": [
        "type(x_train)"
      ],
      "execution_count": 6,
      "outputs": [
        {
          "output_type": "execute_result",
          "data": {
            "text/plain": [
              "numpy.ndarray"
            ]
          },
          "metadata": {
            "tags": []
          },
          "execution_count": 6
        }
      ]
    },
    {
      "cell_type": "code",
      "metadata": {
        "id": "wF_ft-bhzYcz",
        "colab_type": "code",
        "colab": {
          "base_uri": "https://localhost:8080/",
          "height": 34
        },
        "outputId": "4b5b5bad-9d9e-4297-e98d-295abc582b54"
      },
      "source": [
        "x_train.shape"
      ],
      "execution_count": 7,
      "outputs": [
        {
          "output_type": "execute_result",
          "data": {
            "text/plain": [
              "(60000, 28, 28)"
            ]
          },
          "metadata": {
            "tags": []
          },
          "execution_count": 7
        }
      ]
    },
    {
      "cell_type": "code",
      "metadata": {
        "id": "RfZCCoeQza3-",
        "colab_type": "code",
        "colab": {
          "base_uri": "https://localhost:8080/",
          "height": 34
        },
        "outputId": "3ed18dc4-383d-4944-c53c-74c80ed9e3a4"
      },
      "source": [
        "x_test.shape"
      ],
      "execution_count": 8,
      "outputs": [
        {
          "output_type": "execute_result",
          "data": {
            "text/plain": [
              "(10000, 28, 28)"
            ]
          },
          "metadata": {
            "tags": []
          },
          "execution_count": 8
        }
      ]
    },
    {
      "cell_type": "code",
      "metadata": {
        "id": "J3VjIDIbzdTr",
        "colab_type": "code",
        "colab": {}
      },
      "source": [
        ""
      ],
      "execution_count": 0,
      "outputs": []
    },
    {
      "cell_type": "markdown",
      "metadata": {
        "id": "vAVkfrF3zsGX",
        "colab_type": "text"
      },
      "source": [
        "2. 모델 정의하기"
      ]
    },
    {
      "cell_type": "markdown",
      "metadata": {
        "id": "GJkaIIty3Bst",
        "colab_type": "text"
      },
      "source": [
        ""
      ]
    },
    {
      "cell_type": "code",
      "metadata": {
        "id": "U2Jimtmd3DWu",
        "colab_type": "code",
        "colab": {}
      },
      "source": [
        ""
      ],
      "execution_count": 0,
      "outputs": []
    },
    {
      "cell_type": "code",
      "metadata": {
        "id": "d0VPADi50LHp",
        "colab_type": "code",
        "colab": {}
      },
      "source": [
        "#model = tf.keras.models.Sequential([\n",
        "#                                    tf.keras.layers.Flatten(input_shape=(28, 28)),                               \n",
        "#                                    tf.keras.layers.Dense(128, activation='relu'),\n",
        "#                                    tf.keras.layers.Dense(10, activation='softmax')\n",
        "#])"
      ],
      "execution_count": 0,
      "outputs": []
    },
    {
      "cell_type": "code",
      "metadata": {
        "id": "z_wE-VCa5fHH",
        "colab_type": "code",
        "colab": {}
      },
      "source": [
        "from tensorflow.keras.models import Sequential\n",
        "from tensorflow.keras.layers import Flatten, Dense\n",
        "\n",
        "model = Sequential([\n",
        "                    Flatten(input_shape=(28,28)),\n",
        "                    Dense(128, activation='relu'),\n",
        "                    Dense(10,activation='softmax')\n",
        "                    ])"
      ],
      "execution_count": 0,
      "outputs": []
    },
    {
      "cell_type": "code",
      "metadata": {
        "id": "aV4bKR1515MY",
        "colab_type": "code",
        "colab": {}
      },
      "source": [
        "# Optimizer : 최적화하는 방법 (ex 배치경사하강법, 확률적 경사하강법, ...)\n",
        "# 오차함수 = error = loss = cost\n",
        "# metrics : 평가에 사용할 수치 (ex 오차, 평균, 정확도, ...)\n",
        "model.compile(optimizer='adam', loss='sparse_categorical_crossentropy',metrics=['accuracy'])"
      ],
      "execution_count": 0,
      "outputs": []
    },
    {
      "cell_type": "code",
      "metadata": {
        "id": "yRTSJM_G3Wuf",
        "colab_type": "code",
        "colab": {
          "base_uri": "https://localhost:8080/",
          "height": 204
        },
        "outputId": "cc41327d-54bb-4058-a4c8-4477b855f17d"
      },
      "source": [
        "model.fit(x_train, y_train, epochs=5)"
      ],
      "execution_count": 24,
      "outputs": [
        {
          "output_type": "stream",
          "text": [
            "Epoch 1/5\n",
            "1875/1875 [==============================] - 4s 2ms/step - loss: 2.5166 - accuracy: 0.8614\n",
            "Epoch 2/5\n",
            "1875/1875 [==============================] - 4s 2ms/step - loss: 0.3713 - accuracy: 0.9134\n",
            "Epoch 3/5\n",
            "1875/1875 [==============================] - 4s 2ms/step - loss: 0.2810 - accuracy: 0.9303\n",
            "Epoch 4/5\n",
            "1875/1875 [==============================] - 4s 2ms/step - loss: 0.2539 - accuracy: 0.9371\n",
            "Epoch 5/5\n",
            "1875/1875 [==============================] - 4s 2ms/step - loss: 0.2335 - accuracy: 0.9431\n"
          ],
          "name": "stdout"
        },
        {
          "output_type": "execute_result",
          "data": {
            "text/plain": [
              "<tensorflow.python.keras.callbacks.History at 0x7fdcc7542128>"
            ]
          },
          "metadata": {
            "tags": []
          },
          "execution_count": 24
        }
      ]
    },
    {
      "cell_type": "code",
      "metadata": {
        "id": "k2KwbVAU3hnw",
        "colab_type": "code",
        "colab": {
          "base_uri": "https://localhost:8080/",
          "height": 51
        },
        "outputId": "68db3d5b-4da8-46d9-ddb1-5a495b40d6d8"
      },
      "source": [
        "model.evaluate(x_test, y_test)"
      ],
      "execution_count": 25,
      "outputs": [
        {
          "output_type": "stream",
          "text": [
            "313/313 [==============================] - 0s 1ms/step - loss: 0.2714 - accuracy: 0.9386\n"
          ],
          "name": "stdout"
        },
        {
          "output_type": "execute_result",
          "data": {
            "text/plain": [
              "[0.27138614654541016, 0.9386000037193298]"
            ]
          },
          "metadata": {
            "tags": []
          },
          "execution_count": 25
        }
      ]
    },
    {
      "cell_type": "code",
      "metadata": {
        "id": "uVpQt8eJ46dR",
        "colab_type": "code",
        "colab": {}
      },
      "source": [
        ""
      ],
      "execution_count": 0,
      "outputs": []
    }
  ]
}